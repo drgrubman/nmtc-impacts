{
 "cells": [
  {
   "cell_type": "markdown",
   "metadata": {},
   "source": [
    "# NMTC Impacts"
   ]
  },
  {
   "cell_type": "code",
   "execution_count": 2,
   "metadata": {},
   "outputs": [
    {
     "ename": "ModuleNotFoundError",
     "evalue": "No module named 'plotly'",
     "output_type": "error",
     "traceback": [
      "\u001b[1;31m---------------------------------------------------------------------------\u001b[0m",
      "\u001b[1;31mModuleNotFoundError\u001b[0m                       Traceback (most recent call last)",
      "\u001b[1;32m<ipython-input-2-5658408de56e>\u001b[0m in \u001b[0;36m<module>\u001b[1;34m()\u001b[0m\n\u001b[0;32m      1\u001b[0m \u001b[1;33m\u001b[0m\u001b[0m\n\u001b[0;32m      2\u001b[0m \u001b[1;32mimport\u001b[0m \u001b[0mpandas\u001b[0m \u001b[1;32mas\u001b[0m \u001b[0mpd\u001b[0m\u001b[1;33m\u001b[0m\u001b[0m\n\u001b[1;32m----> 3\u001b[1;33m \u001b[1;32mimport\u001b[0m \u001b[0mplotly\u001b[0m\u001b[1;33m.\u001b[0m\u001b[0mgraph_objects\u001b[0m \u001b[1;32mas\u001b[0m \u001b[0mgo\u001b[0m\u001b[1;33m\u001b[0m\u001b[0m\n\u001b[0m\u001b[0;32m      4\u001b[0m \u001b[1;32mimport\u001b[0m \u001b[0mplotly\u001b[0m\u001b[1;33m.\u001b[0m\u001b[0mexpress\u001b[0m \u001b[1;32mas\u001b[0m \u001b[0mpx\u001b[0m\u001b[1;33m\u001b[0m\u001b[0m\n\u001b[0;32m      5\u001b[0m \u001b[0mplotly\u001b[0m\u001b[1;33m.\u001b[0m\u001b[0moffline\u001b[0m\u001b[1;33m.\u001b[0m\u001b[0minit_notebook_mode\u001b[0m\u001b[1;33m(\u001b[0m\u001b[1;33m)\u001b[0m\u001b[1;33m\u001b[0m\u001b[0m\n",
      "\u001b[1;31mModuleNotFoundError\u001b[0m: No module named 'plotly'"
     ]
    }
   ],
   "source": [
    "\n",
    "import pandas as pd\n",
    "import plotly.graph_objects as go\n",
    "import plotly.express as px\n",
    "plotly.offline.init_notebook_mode()"
   ]
  },
  {
   "cell_type": "code",
   "execution_count": 3,
   "metadata": {},
   "outputs": [],
   "source": [
    "# Geocode Addresses\n",
    "file = \"./NMTC Data/FINAL HTC - SORTED.xlsx\"\n",
    "sheets = [\"Baltimore\", \"Cleveland\", \"Detroit\", \"Pittsburgh\", \"St. Louis\"]\n",
    "df = pd.DataFrame()\n",
    "for city in sheets:\n",
    "    df_city = pd.read_excel(file, sheet_name=city, ignore_index=True)\n",
    "    df_city[\"Region\"] = city\n",
    "    df = pd.concat([df, df_city])\n",
    "\n",
    "df = df.reset_index(drop=True)\n",
    "# df.to_csv(\"./NMTC Data/nmtc_all.csv\")\n"
   ]
  },
  {
   "cell_type": "code",
   "execution_count": 13,
   "metadata": {},
   "outputs": [],
   "source": [
    "file_geocoded = (\n",
    "    \"./NMTC Data/nmtc_all_geocodio_de2c98be370aaf8eecfb5845129646d9cf1fbc6b.csv\"\n",
    ")\n",
    "df = pd.read_csv(file_geocoded, index_col=0)\n",
    "df[\"Full FIPS\"] = df[\"Full FIPS\"].fillna(0)\n",
    "df[\"Full FIPS\"] = df[\"Full FIPS\"].astype(\"int64\")\n",
    "\n",
    "#One project was not located\n",
    "df = df.dropna(subset=['Latitude'])\n",
    "\n",
    "df[\"Census Tract\"] = df[\"Full FIPS\"].astype(str).str.zfill(11).str.slice(start=0, stop=11)"
   ]
  },
  {
   "cell_type": "code",
   "execution_count": 6,
   "metadata": {},
   "outputs": [],
   "source": []
  },
  {
   "cell_type": "code",
   "execution_count": null,
   "metadata": {},
   "outputs": [],
   "source": []
  },
  {
   "cell_type": "code",
   "execution_count": 20,
   "metadata": {},
   "outputs": [],
   "source": [
    "dfgby = df.groupby(\"Census Tract\")[\"Total Project Costs\"].agg([\"sum\",\"count\"]).reset_index()\n",
    "dfgby.columns = [\"Cenus Tracts\", \"Total Project Costs (Sum)\",\"Number of HTC Projects\"]\n",
    "dfgby.to_csv(\"HTC_Tracts.csv\")"
   ]
  },
  {
   "cell_type": "code",
   "execution_count": null,
   "metadata": {},
   "outputs": [],
   "source": [
    "# ELLIE DO NOT STEAL MY MAPBOX TOKENNNNNN\n",
    "mapbox_access_token = \"pk.eyJ1Ijoibm92b2dyYWRhYyIsImEiOiJjazRlODIyNTUwMmZvM21sbzlmcTFvNmE2In0.lEwl1VnTnAjOt_XCEgk0Fw\"\n",
    "\n",
    "fig = go.Figure(go.Scattermapbox(\n",
    "        lon=df[\"Longitude\"],\n",
    "        lat=df[\"Latitude\"],\n",
    "        text=df[\"Project Name\"],\n",
    "        mode=\"markers\",\n",
    "        marker=go.scattermapbox.Marker(\n",
    "            size=5\n",
    "        )))\n",
    "\n",
    "fig.update_layout(\n",
    "    autosize=True,\n",
    "    hovermode='closest',\n",
    "    mapbox=go.layout.Mapbox(\n",
    "        accesstoken=mapbox_access_token,\n",
    "        bearing=0,\n",
    "        center=go.layout.mapbox.Center(\n",
    "            lat=40.440624,\n",
    "            lon=-79.995888\n",
    "        ),\n",
    "        pitch=0,\n",
    "        zoom=4\n",
    "    ),\n",
    ")\n",
    "\n",
    "fig.show()"
   ]
  },
  {
   "cell_type": "code",
   "execution_count": null,
   "metadata": {},
   "outputs": [],
   "source": []
  }
 ],
 "metadata": {
  "kernelspec": {
   "display_name": "Python 3",
   "language": "python",
   "name": "python3"
  },
  "language_info": {
   "codemirror_mode": {
    "name": "ipython",
    "version": 3
   },
   "file_extension": ".py",
   "mimetype": "text/x-python",
   "name": "python",
   "nbconvert_exporter": "python",
   "pygments_lexer": "ipython3",
   "version": "3.7.0"
  }
 },
 "nbformat": 4,
 "nbformat_minor": 2
}
